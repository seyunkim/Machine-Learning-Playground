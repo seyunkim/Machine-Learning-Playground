{
 "cells": [
  {
   "cell_type": "code",
   "execution_count": 1,
   "metadata": {},
   "outputs": [],
   "source": [
    "import sklearn\n",
    "import plotly.plotly as py\n",
    "import plotly.graph_objs as go\n",
    "from plotly import tools\n",
    "\n",
    "import numpy as np\n",
    "\n",
    "from sklearn.cluster import KMeans\n",
    "from sklearn import datasets"
   ]
  },
  {
   "cell_type": "code",
   "execution_count": 2,
   "metadata": {},
   "outputs": [],
   "source": [
    "np.random.seed(5)\n",
    "\n",
    "fig = tools.make_subplots(rows=2, cols=3,\n",
    "                          print_grid=False,\n",
    "                          specs=[[{'is_3d': True}, {'is_3d': True}, {'is_3d': True}],\n",
    "                                 [ {'is_3d': True, 'rowspan':1}, None, None]])\n",
    "scene = dict(\n",
    "    camera = dict(\n",
    "    up=dict(x=0, y=0, z=1),\n",
    "    center=dict(x=0, y=0, z=0),\n",
    "    eye=dict(x=2.5, y=0.1, z=0.1)\n",
    "    ),\n",
    "    xaxis=dict(\n",
    "        range=[-1, 4],\n",
    "        title='Petal width',\n",
    "        gridcolor='rgb(255, 255, 255)',\n",
    "        zerolinecolor='rgb(255, 255, 255)',\n",
    "        showbackground=True,\n",
    "        backgroundcolor='rgb(230, 230,230)',\n",
    "        showticklabels=False, ticks=''\n",
    "    ),\n",
    "    yaxis=dict(\n",
    "        range=[4, 8],\n",
    "        title='Sepal length',\n",
    "        gridcolor='rgb(255, 255, 255)',\n",
    "        zerolinecolor='rgb(255, 255, 255)',\n",
    "        showbackground=True,\n",
    "        backgroundcolor='rgb(230, 230,230)',\n",
    "        showticklabels=False, ticks=''\n",
    "    ),\n",
    "    zaxis=dict(\n",
    "        range=[1,8],\n",
    "        title='Petal length',\n",
    "        gridcolor='rgb(255, 255, 255)',\n",
    "        zerolinecolor='rgb(255, 255, 255)',\n",
    "        showbackground=True,\n",
    "        backgroundcolor='rgb(230, 230,230)',\n",
    "        showticklabels=False, ticks=''\n",
    "    )\n",
    ")\n",
    "\n",
    "centers = [[1, 1], [-1, -1], [1, -1]]\n",
    "iris = datasets.load_iris()\n",
    "X = iris.data\n",
    "y = iris.target\n",
    "\n",
    "estimators = {'k_means_iris_3': KMeans(n_clusters=3),\n",
    "              'k_means_iris_8': KMeans(n_clusters=8),\n",
    "              'k_means_iris_bad_init': KMeans(n_clusters=3, n_init=1,\n",
    "                                              init='random')}\n",
    "fignum = 1\n",
    "for name, est in estimators.items():\n",
    "    est.fit(X)\n",
    "    labels = est.labels_\n",
    "\n",
    "    trace = go.Scatter3d(x=X[:, 3], y=X[:, 0], z=X[:, 2],\n",
    "                         showlegend=False,\n",
    "                         mode='markers',\n",
    "                         marker=dict(\n",
    "                                color=labels.astype(np.float),\n",
    "                                line=dict(color='black', width=1)\n",
    "        ))\n",
    "    fig.append_trace(trace, 1, fignum)\n",
    "    \n",
    "    fignum = fignum + 1\n",
    "\n",
    "y = np.choose(y, [1, 2, 0]).astype(np.float)\n",
    "\n",
    "trace1 = go.Scatter3d(x=X[:, 3], y=X[:, 0], z=X[:, 2],\n",
    "                      showlegend=False,\n",
    "                      mode='markers',\n",
    "                      marker=dict(\n",
    "                            color=y,\n",
    "                            line=dict(color='black', width=1)))\n",
    "fig.append_trace(trace1, 2, 1)\n",
    "\n",
    "fig['layout'].update(height=900, width=900,\n",
    "                     margin=dict(l=10,r=10))\n",
    "\n",
    "fig['layout']['scene1'].update(scene)\n",
    "fig['layout']['scene2'].update(scene)\n",
    "fig['layout']['scene3'].update(scene)\n",
    "fig['layout']['scene4'].update(scene)\n",
    "fig['layout']['scene5'].update(scene)"
   ]
  },
  {
   "cell_type": "code",
   "execution_count": 3,
   "metadata": {},
   "outputs": [
    {
     "data": {
      "text/html": [
       "<iframe id=\"igraph\" scrolling=\"no\" style=\"border:none;\" seamless=\"seamless\" src=\"https://plot.ly/~zackseyun/21.embed\" height=\"900px\" width=\"900px\"></iframe>"
      ],
      "text/plain": [
       "<plotly.tools.PlotlyDisplay object>"
      ]
     },
     "execution_count": 3,
     "metadata": {},
     "output_type": "execute_result"
    }
   ],
   "source": [
    "py.iplot(fig)"
   ]
  },
  {
   "cell_type": "code",
   "execution_count": null,
   "metadata": {},
   "outputs": [],
   "source": []
  }
 ],
 "metadata": {
  "kernelspec": {
   "display_name": "Python 3",
   "language": "python",
   "name": "python3"
  },
  "language_info": {
   "codemirror_mode": {
    "name": "ipython",
    "version": 3
   },
   "file_extension": ".py",
   "mimetype": "text/x-python",
   "name": "python",
   "nbconvert_exporter": "python",
   "pygments_lexer": "ipython3",
   "version": "3.6.4"
  }
 },
 "nbformat": 4,
 "nbformat_minor": 2
}
